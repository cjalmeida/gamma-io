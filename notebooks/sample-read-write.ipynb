{
 "cells": [
  {
   "cell_type": "code",
   "execution_count": 2,
   "metadata": {},
   "outputs": [],
   "source": [
    "import os\n",
    "os.environ[\"IO_TEST_TMP\"] = \"/tmp/gamma-io\""
   ]
  },
  {
   "cell_type": "code",
   "execution_count": 3,
   "metadata": {},
   "outputs": [],
   "source": [
    "from gamma.io import read_pandas\n",
    "\n",
    "df = read_pandas(\"source\", \"customers_1k\")"
   ]
  },
  {
   "cell_type": "code",
   "execution_count": 4,
   "metadata": {},
   "outputs": [],
   "source": [
    "from gamma.io import read_pandas, write_pandas\n",
    "\n",
    "df = read_pandas(\"source\", \"customers_1k\")\n",
    "\n",
    "# some transformation: let's add the cluster column to the dataset\n",
    "df[\"cluster\"] = (df[\"Index\"] % 3).astype(str)\n",
    "\n",
    "write_pandas(df, \"raw\", \"customers\")"
   ]
  },
  {
   "cell_type": "code",
   "execution_count": 6,
   "metadata": {},
   "outputs": [
    {
     "name": "stdout",
     "output_type": "stream",
     "text": [
      "\u001b[01;34m/tmp/gamma-io\u001b[00m\n",
      "└── \u001b[01;34mdata\u001b[00m\n",
      "    └── \u001b[01;34mcustomers\u001b[00m\n",
      "        ├── \u001b[01;34mcluster=0\u001b[00m\n",
      "        │   └── part-0.parquet\n",
      "        ├── \u001b[01;34mcluster=1\u001b[00m\n",
      "        │   └── part-0.parquet\n",
      "        └── \u001b[01;34mcluster=2\u001b[00m\n",
      "            └── part-0.parquet\n",
      "\n",
      "5 directories, 3 files\n"
     ]
    }
   ],
   "source": [
    "!tree /tmp/gamma-io"
   ]
  },
  {
   "cell_type": "code",
   "execution_count": null,
   "metadata": {},
   "outputs": [],
   "source": []
  }
 ],
 "metadata": {
  "kernelspec": {
   "display_name": ".venv",
   "language": "python",
   "name": "python3"
  },
  "language_info": {
   "codemirror_mode": {
    "name": "ipython",
    "version": 3
   },
   "file_extension": ".py",
   "mimetype": "text/x-python",
   "name": "python",
   "nbconvert_exporter": "python",
   "pygments_lexer": "ipython3",
   "version": "3.11.2"
  },
  "orig_nbformat": 4
 },
 "nbformat": 4,
 "nbformat_minor": 2
}
