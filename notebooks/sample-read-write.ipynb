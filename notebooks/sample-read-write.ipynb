{
 "cells": [
  {
   "cell_type": "code",
   "execution_count": 1,
   "metadata": {},
   "outputs": [],
   "source": [
    "import os\n",
    "os.environ[\"IO_TEST_TMP\"] = \"/tmp/gamma-io\"\n",
    "os.environ[\"IO_TEST_PROJECT_ROOT\"] = os.path.realpath('..')"
   ]
  },
  {
   "cell_type": "code",
   "execution_count": 4,
   "metadata": {},
   "outputs": [],
   "source": [
    "from gamma.io import read_pandas\n",
    "from itertools import cycle\n",
    "from random import choice\n",
    "\n",
    "df = read_pandas(\"source\", \"customers_1k\")"
   ]
  },
  {
   "cell_type": "code",
   "execution_count": 8,
   "metadata": {},
   "outputs": [],
   "source": [
    "from gamma.io import read_pandas, write_pandas\n",
    "\n",
    "df = read_pandas(\"source\", \"customers_1k_local\")\n",
    "\n",
    "# assign partition values\n",
    "vals_l1 = cycle(\"ABCD\")\n",
    "l1 = [next(vals_l1) for _ in range(len(df))]\n",
    "l2 = [choice(\"AB\") for _ in range(len(df))]\n",
    "df[\"l1\"] = l1\n",
    "df[\"l2\"] = l2\n",
    "\n",
    "write_pandas(df, \"raw\", \"customers\")"
   ]
  },
  {
   "cell_type": "code",
   "execution_count": 9,
   "metadata": {},
   "outputs": [
    {
     "name": "stdout",
     "output_type": "stream",
     "text": [
      "\u001b[01;34m/tmp/gamma-io\u001b[00m\n",
      "└── \u001b[01;34mdata\u001b[00m\n",
      "    └── \u001b[01;34mcustomers\u001b[00m\n",
      "        ├── \u001b[01;34ml1=A\u001b[00m\n",
      "        │   ├── \u001b[01;34ml2=A\u001b[00m\n",
      "        │   │   └── part-0.parquet\n",
      "        │   └── \u001b[01;34ml2=B\u001b[00m\n",
      "        │       └── part-0.parquet\n",
      "        ├── \u001b[01;34ml1=B\u001b[00m\n",
      "        │   ├── \u001b[01;34ml2=A\u001b[00m\n",
      "        │   │   └── part-0.parquet\n",
      "        │   └── \u001b[01;34ml2=B\u001b[00m\n",
      "        │       └── part-0.parquet\n",
      "        ├── \u001b[01;34ml1=C\u001b[00m\n",
      "        │   ├── \u001b[01;34ml2=A\u001b[00m\n",
      "        │   │   └── part-0.parquet\n",
      "        │   └── \u001b[01;34ml2=B\u001b[00m\n",
      "        │       └── part-0.parquet\n",
      "        └── \u001b[01;34ml1=D\u001b[00m\n",
      "            ├── \u001b[01;34ml2=A\u001b[00m\n",
      "            │   └── part-0.parquet\n",
      "            └── \u001b[01;34ml2=B\u001b[00m\n",
      "                └── part-0.parquet\n",
      "\n",
      "14 directories, 8 files\n"
     ]
    }
   ],
   "source": [
    "!tree /tmp/gamma-io"
   ]
  },
  {
   "cell_type": "code",
   "execution_count": 61,
   "metadata": {},
   "outputs": [
    {
     "ename": "TypeError",
     "evalue": "get_dataset() takes 2 positional arguments but 3 positional arguments (and 1 keyword-only argument) were given",
     "output_type": "error",
     "traceback": [
      "\u001b[0;31m---------------------------------------------------------------------------\u001b[0m",
      "\u001b[0;31mTypeError\u001b[0m                                 Traceback (most recent call last)",
      "Cell \u001b[0;32mIn[61], line 1\u001b[0m\n\u001b[0;32m----> 1\u001b[0m read_pandas(df, \u001b[39m\"\u001b[39;49m\u001b[39mraw\u001b[39;49m\u001b[39m\"\u001b[39;49m, \u001b[39m\"\u001b[39;49m\u001b[39mcustomers\u001b[39;49m\u001b[39m\"\u001b[39;49m, columns\u001b[39m=\u001b[39;49m[\u001b[39m\"\u001b[39;49m\u001b[39ml1\u001b[39;49m\u001b[39m\"\u001b[39;49m, \u001b[39m\"\u001b[39;49m\u001b[39ml2\u001b[39;49m\u001b[39m\"\u001b[39;49m])\n",
      "File \u001b[0;32m~/work/gamma-io/.venv/lib/python3.11/site-packages/plum/function.py:392\u001b[0m, in \u001b[0;36mFunction.__call__\u001b[0;34m(self, *args, **kw_args)\u001b[0m\n\u001b[1;32m    388\u001b[0m \u001b[39mexcept\u001b[39;00m \u001b[39mKeyError\u001b[39;00m:\n\u001b[1;32m    389\u001b[0m     \u001b[39m# Cache miss. Run the resolver based on the arguments.\u001b[39;00m\n\u001b[1;32m    390\u001b[0m     method, return_type \u001b[39m=\u001b[39m \u001b[39mself\u001b[39m\u001b[39m.\u001b[39mresolve_method(args, types)\n\u001b[0;32m--> 392\u001b[0m \u001b[39mreturn\u001b[39;00m _convert(method(\u001b[39m*\u001b[39;49margs, \u001b[39m*\u001b[39;49m\u001b[39m*\u001b[39;49mkw_args), return_type)\n",
      "File \u001b[0;32m~/work/gamma-io/gamma/io/_pandas.py:21\u001b[0m, in \u001b[0;36mread_pandas\u001b[0;34m(*args, **kwargs)\u001b[0m\n\u001b[1;32m     18\u001b[0m \u001b[39m@dispatch\u001b[39m\n\u001b[1;32m     19\u001b[0m \u001b[39mdef\u001b[39;00m \u001b[39mread_pandas\u001b[39m(\u001b[39m*\u001b[39margs, \u001b[39m*\u001b[39m\u001b[39m*\u001b[39mkwargs) \u001b[39m-\u001b[39m\u001b[39m>\u001b[39m pd\u001b[39m.\u001b[39mDataFrame:\n\u001b[1;32m     20\u001b[0m \u001b[39m    \u001b[39m\u001b[39m\"\"\"Pandas dataset reader shortcut.\"\"\"\u001b[39;00m\n\u001b[0;32m---> 21\u001b[0m     \u001b[39mreturn\u001b[39;00m read_pandas(get_dataset(\u001b[39m*\u001b[39;49margs, \u001b[39m*\u001b[39;49m\u001b[39m*\u001b[39;49mkwargs))\n",
      "\u001b[0;31mTypeError\u001b[0m: get_dataset() takes 2 positional arguments but 3 positional arguments (and 1 keyword-only argument) were given"
     ]
    }
   ],
   "source": [
    "read_pandas(df, \"raw\", \"customers\", columns=[\"l1\", \"l2\"])"
   ]
  },
  {
   "cell_type": "code",
   "execution_count": 20,
   "metadata": {},
   "outputs": [],
   "source": [
    "fields = [f.name for f in ds.partitioning.schema]\n"
   ]
  },
  {
   "cell_type": "code",
   "execution_count": 59,
   "metadata": {},
   "outputs": [],
   "source": [
    "t = ds.to_table(columns=)"
   ]
  },
  {
   "cell_type": "code",
   "execution_count": 60,
   "metadata": {},
   "outputs": [
    {
     "data": {
      "text/html": [
       "<div>\n",
       "<style scoped>\n",
       "    .dataframe tbody tr th:only-of-type {\n",
       "        vertical-align: middle;\n",
       "    }\n",
       "\n",
       "    .dataframe tbody tr th {\n",
       "        vertical-align: top;\n",
       "    }\n",
       "\n",
       "    .dataframe thead th {\n",
       "        text-align: right;\n",
       "    }\n",
       "</style>\n",
       "<table border=\"1\" class=\"dataframe\">\n",
       "  <thead>\n",
       "    <tr style=\"text-align: right;\">\n",
       "      <th></th>\n",
       "      <th>l1</th>\n",
       "      <th>l2</th>\n",
       "    </tr>\n",
       "  </thead>\n",
       "  <tbody>\n",
       "    <tr>\n",
       "      <th>0</th>\n",
       "      <td>A</td>\n",
       "      <td>A</td>\n",
       "    </tr>\n",
       "    <tr>\n",
       "      <th>1</th>\n",
       "      <td>A</td>\n",
       "      <td>A</td>\n",
       "    </tr>\n",
       "    <tr>\n",
       "      <th>2</th>\n",
       "      <td>A</td>\n",
       "      <td>A</td>\n",
       "    </tr>\n",
       "    <tr>\n",
       "      <th>3</th>\n",
       "      <td>A</td>\n",
       "      <td>A</td>\n",
       "    </tr>\n",
       "    <tr>\n",
       "      <th>4</th>\n",
       "      <td>A</td>\n",
       "      <td>A</td>\n",
       "    </tr>\n",
       "    <tr>\n",
       "      <th>...</th>\n",
       "      <td>...</td>\n",
       "      <td>...</td>\n",
       "    </tr>\n",
       "    <tr>\n",
       "      <th>995</th>\n",
       "      <td>D</td>\n",
       "      <td>B</td>\n",
       "    </tr>\n",
       "    <tr>\n",
       "      <th>996</th>\n",
       "      <td>D</td>\n",
       "      <td>B</td>\n",
       "    </tr>\n",
       "    <tr>\n",
       "      <th>997</th>\n",
       "      <td>D</td>\n",
       "      <td>B</td>\n",
       "    </tr>\n",
       "    <tr>\n",
       "      <th>998</th>\n",
       "      <td>D</td>\n",
       "      <td>B</td>\n",
       "    </tr>\n",
       "    <tr>\n",
       "      <th>999</th>\n",
       "      <td>D</td>\n",
       "      <td>B</td>\n",
       "    </tr>\n",
       "  </tbody>\n",
       "</table>\n",
       "<p>1000 rows × 2 columns</p>\n",
       "</div>"
      ],
      "text/plain": [
       "    l1 l2\n",
       "0    A  A\n",
       "1    A  A\n",
       "2    A  A\n",
       "3    A  A\n",
       "4    A  A\n",
       "..  .. ..\n",
       "995  D  B\n",
       "996  D  B\n",
       "997  D  B\n",
       "998  D  B\n",
       "999  D  B\n",
       "\n",
       "[1000 rows x 2 columns]"
      ]
     },
     "execution_count": 60,
     "metadata": {},
     "output_type": "execute_result"
    }
   ],
   "source": [
    "t.to_pandas()"
   ]
  },
  {
   "cell_type": "code",
   "execution_count": 24,
   "metadata": {},
   "outputs": [],
   "source": [
    "f = list(ds.get_fragments())[0]"
   ]
  },
  {
   "cell_type": "code",
   "execution_count": 52,
   "metadata": {},
   "outputs": [],
   "source": [
    "s = ds.scanner()"
   ]
  },
  {
   "cell_type": "code",
   "execution_count": 55,
   "metadata": {},
   "outputs": [],
   "source": [
    "r = s.to_reader()"
   ]
  },
  {
   "cell_type": "code",
   "execution_count": 56,
   "metadata": {},
   "outputs": [
    {
     "name": "stdout",
     "output_type": "stream",
     "text": [
      "\u001b[0;31mSignature:\u001b[0m \u001b[0mr\u001b[0m\u001b[0;34m.\u001b[0m\u001b[0mread_pandas\u001b[0m\u001b[0;34m(\u001b[0m\u001b[0;34m**\u001b[0m\u001b[0moptions\u001b[0m\u001b[0;34m)\u001b[0m\u001b[0;34m\u001b[0m\u001b[0;34m\u001b[0m\u001b[0m\n",
      "\u001b[0;31mDocstring:\u001b[0m\n",
      "_ReadPandasMixin.read_pandas(self, **options)\n",
      "\n",
      "Read contents of stream to a pandas.DataFrame.\n",
      "\n",
      "Read all record batches as a pyarrow.Table then convert it to a\n",
      "pandas.DataFrame using Table.to_pandas.\n",
      "\n",
      "Parameters\n",
      "----------\n",
      "**options\n",
      "    Arguments to forward to :meth:`Table.to_pandas`.\n",
      "\n",
      "Returns\n",
      "-------\n",
      "df : pandas.DataFrame\n",
      "\u001b[0;31mType:\u001b[0m      method"
     ]
    }
   ],
   "source": [
    "?r.read_pandas"
   ]
  },
  {
   "cell_type": "code",
   "execution_count": 49,
   "metadata": {},
   "outputs": [
    {
     "data": {
      "text/plain": [
       "['/tmp/gamma-io/data/customers/l1=A/l2=A/part-0.parquet',\n",
       " '/tmp/gamma-io/data/customers/l1=A/l2=B/part-0.parquet',\n",
       " '/tmp/gamma-io/data/customers/l1=B/l2=A/part-0.parquet',\n",
       " '/tmp/gamma-io/data/customers/l1=B/l2=B/part-0.parquet',\n",
       " '/tmp/gamma-io/data/customers/l1=C/l2=A/part-0.parquet',\n",
       " '/tmp/gamma-io/data/customers/l1=C/l2=B/part-0.parquet',\n",
       " '/tmp/gamma-io/data/customers/l1=D/l2=A/part-0.parquet',\n",
       " '/tmp/gamma-io/data/customers/l1=D/l2=B/part-0.parquet']"
      ]
     },
     "execution_count": 49,
     "metadata": {},
     "output_type": "execute_result"
    }
   ],
   "source": [
    "ds.files"
   ]
  }
 ],
 "metadata": {
  "kernelspec": {
   "display_name": ".venv",
   "language": "python",
   "name": "python3"
  },
  "language_info": {
   "codemirror_mode": {
    "name": "ipython",
    "version": 3
   },
   "file_extension": ".py",
   "mimetype": "text/x-python",
   "name": "python",
   "nbconvert_exporter": "python",
   "pygments_lexer": "ipython3",
   "version": "3.11.4"
  },
  "orig_nbformat": 4
 },
 "nbformat": 4,
 "nbformat_minor": 2
}
